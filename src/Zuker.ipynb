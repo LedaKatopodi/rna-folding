{
 "cells": [
  {
   "cell_type": "markdown",
   "metadata": {},
   "source": [
    "# RNA folding\n",
    "\n",
    "The problem below is an implementation of the Zuker Minimization algorithm for solving the RNA folding problem.\n",
    "\n",
    "## Problem:\n",
    "\n",
    "Find all optimal secondary structures of the RNA sequence **AAUACUCCGUUGCAGCAU** with the following simplified Zuker minimization algorithm. Starting from the slides’ algorithm, use the following initialisation:\n",
    "$$j+5>i =⇒ V(i,j)=W(i,j)=∞, i>j,$$\n",
    "\n",
    "hairpin energy $h(i, j) = 2(i − j + 5)$, and stem energy $s(i, j) = −4, 0, 4$, for Watson-Crick bonds, GU, and all other possible pairs respectively. Ignore multiloops and buldges to simplify V so that it only has the first two cases.\n",
    "\n",
    "Implement your algorithm in Matlab, R, Python or other convenient system; submit your code. Print the filled-in tables W, V . Draw (by hand) an optimal fold, show its bonds, and the corresponding backtrack path.\n",
    "\n",
    "## Implementation:\n",
    "\n",
    "The Zuker minimization algorithm was implemented in order to distinguish the secondary (2D) sructure of an RNA molecule given its sequence. The algorithm utilizes an Energy/Structural matrix with dimensions equal to the length *len* of the RNA sequence, and populates the cells of the matrix recursively from the i = *len* and j = 1, were i: columns and j:rows of the Energy matrix, thus:\n",
    "\n",
    "$$ W(i,j) = \\min \\begin{cases} \\mbox{W(i-1,j)} \\\\ \\mbox{W(i,j+1)} \\\\ \\mbox{V(i,j)} & \\mbox{where (i,j) define a structural element} \\\\ \\mbox{min{W(i,k)+W(k−1,j) : j+1 < k < i}} \\end{cases} $$\n",
    "\n",
    "with $V(i,j)$ an second matrix of dimensions *len* x *len* which captures the energies at each cell. For the simplified version of the Zuker algorithm, the V Energy matrix is implemented as:\n",
    "\n",
    "$$ V(i,j) = \\min \\begin{cases} \\mbox{s(i,j) + h(i − 1,j + 1)} & \\mbox{hairpin} \\\\ \\mbox{s(i,j) + W(i − 1,j + 1)} & \\mbox{match} \\end{cases} $$\n",
    "\n",
    "The s(i,j) and h(i,j) matrices are defined as specified in the problem.\n",
    "\n",
    "The implementation fo the algorithm starts by initializing all matrices that will be used, that is: W, V, s, and h. All are initialized with values 0, and will be populated accordingly, starting with $$j+5>i \\Rightarrow V(i,j)=W(i,j)= \\infty, i>j,$$ for W and V."
   ]
  },
  {
   "cell_type": "code",
   "execution_count": 1,
   "metadata": {},
   "outputs": [],
   "source": [
    "import numpy as np\n",
    "\n",
    "# given RNA Sequence\n",
    "seq = \"AAUACUCCGUUGCAGCAU\"\n",
    "dim = len(seq)\n",
    "\n",
    "# Initialization\n",
    "W = [ [ 0 for i in range(dim) ] for j in range(dim) ] # matrix W\n",
    "V = [ [ 0 for i in range(dim) ] for j in range(dim) ] # matrix V\n",
    "hairpin_mat = [ [ 0 for i in range(dim) ] for j in range(dim) ] # matrix h\n",
    "stem_mat = [ [ 0 for i in range(dim) ] for j in range(dim) ] # matrix s\n",
    "\n",
    "# Bond energies\n",
    "stem_en = [-4, 0, 4]\n",
    "    \n",
    "for i in range(dim):\n",
    "    for j in range(dim):\n",
    "        \n",
    "        # Populating h\n",
    "        hairpin_mat[j][i] = 2*(i - j + 5)\n",
    "        \n",
    "        # Populating s\n",
    "        if seq[i]+seq[j] in [\"AU\", \"UA\", \"GC\", \"CG\"]:\n",
    "            stem_mat[j][i] = stem_en[0]\n",
    "            \n",
    "        elif seq[i]+seq[j] in [\"GU\", \"UG\"]:\n",
    "            stem_mat[j][i] = stem_en[1]\n",
    "            \n",
    "        else:\n",
    "            stem_mat[j][i] = stem_en[2]\n",
    "            \n",
    "        # Populating W, V for j+5>i\n",
    "        if i < j + 5:\n",
    "            W[j][i] = float('inf')\n",
    "            V[j][i] = float('inf')"
   ]
  },
  {
   "cell_type": "markdown",
   "metadata": {},
   "source": [
    "In order to obtain the optimal structure, the algorithmic implementation proceeds with populating the W and V recursively from point i=18 (column) and j=1 (row), in order to obtain the minimal value for the energy at this cell. To this end, two functions are defined, *recurStructure* and *recurEnergy* that populate W and V respectively, and utilize recursion in order to achive this goal."
   ]
  },
  {
   "cell_type": "code",
   "execution_count": 2,
   "metadata": {},
   "outputs": [],
   "source": [
    "def recurStructure(j, i):\n",
    "\n",
    "    if i < j + 5:\n",
    "        return W[j][i]\n",
    "    \n",
    "    else:\n",
    "        # the 4 conditions/cases for W\n",
    "        a = recurStructure(j, i-1)\n",
    "        b = recurStructure(j+1, i)\n",
    "        c = recurEnergy(j, i)\n",
    "        d = float('inf')\n",
    "            \n",
    "        for k in range(j+2, i):\n",
    "            d_tmp = recurStructure(k,i) + recurStructure(j, k-1)\n",
    "            if d_tmp < d:\n",
    "                d = d_tmp\n",
    "        \n",
    "        # choosing the minimum between the 4 cases\n",
    "        W[j][i] = min(a, b, c, d)\n",
    "        return W[j][i]\n",
    "    \n",
    "    \n",
    "def recurEnergy(j, i):\n",
    "\n",
    "    V[j][i] = min(stem_mat[j][i] + hairpin_mat[j+1][i-1], \n",
    "                  stem_mat[j][i] + recurStructure(j+1, i-1))  \n",
    "\n",
    "    return V[j][i]"
   ]
  },
  {
   "cell_type": "markdown",
   "metadata": {},
   "source": [
    "The obtained W and V matrices are:"
   ]
  },
  {
   "cell_type": "code",
   "execution_count": 3,
   "metadata": {},
   "outputs": [
    {
     "name": "stdout",
     "output_type": "stream",
     "text": [
      "## ================================ W ================================ ##\n",
      "[[inf inf inf inf inf 12. 12. 12. 12. 12. 10. 10. 10.  8.  4.  4.  0. -4.]\n",
      " [inf inf inf inf inf inf 20. 20. 18. 14. 10. 10. 10.  8.  4.  4.  0. -4.]\n",
      " [inf inf inf inf inf inf inf 20. 18. 14. 14. 12. 12.  8.  4.  4.  0.  0.]\n",
      " [inf inf inf inf inf inf inf inf 20. 14. 14. 12. 12.  8.  4.  4.  4.  0.]\n",
      " [inf inf inf inf inf inf inf inf inf 20. 20. 12. 12.  8.  4.  4.  4.  4.]\n",
      " [inf inf inf inf inf inf inf inf inf inf 20. 12. 12.  8.  8.  8.  8.  8.]\n",
      " [inf inf inf inf inf inf inf inf inf inf inf 12. 12. 12. 12. 12. 12. 12.]\n",
      " [inf inf inf inf inf inf inf inf inf inf inf inf 20. 20. 16. 12. 12. 12.]\n",
      " [inf inf inf inf inf inf inf inf inf inf inf inf inf 20. 16. 12. 12. 12.]\n",
      " [inf inf inf inf inf inf inf inf inf inf inf inf inf inf 16. 16. 14. 14.]\n",
      " [inf inf inf inf inf inf inf inf inf inf inf inf inf inf inf 20. 14. 14.]\n",
      " [inf inf inf inf inf inf inf inf inf inf inf inf inf inf inf inf 20. 18.]\n",
      " [inf inf inf inf inf inf inf inf inf inf inf inf inf inf inf inf inf 20.]\n",
      " [inf inf inf inf inf inf inf inf inf inf inf inf inf inf inf inf inf inf]\n",
      " [inf inf inf inf inf inf inf inf inf inf inf inf inf inf inf inf inf inf]\n",
      " [inf inf inf inf inf inf inf inf inf inf inf inf inf inf inf inf inf inf]\n",
      " [inf inf inf inf inf inf inf inf inf inf inf inf inf inf inf inf inf inf]\n",
      " [inf inf inf inf inf inf inf inf inf inf inf inf inf inf inf inf inf inf]]\n",
      "\n",
      "\n",
      "## ================================ V ================================ ##\n",
      "[[inf inf inf inf inf 12. 22. 24. 24. 14. 10. 14. 14. 14. 12.  8.  8. -4.]\n",
      " [inf inf inf inf inf inf 20. 22. 24. 14. 10. 18. 16. 16. 12.  8.  8. -4.]\n",
      " [inf inf inf inf inf inf inf 20. 18. 24. 18. 14. 16.  8.  8.  8.  0.  8.]\n",
      " [inf inf inf inf inf inf inf inf 20. 14. 16. 24. 16. 16. 12.  8.  8.  0.]\n",
      " [inf inf inf inf inf inf inf inf inf 20. 22. 16. 16. 16.  4. 12. 12. 12.]\n",
      " [inf inf inf inf inf inf inf inf inf inf 20. 18. 16.  8. 12. 16.  8. 16.]\n",
      " [inf inf inf inf inf inf inf inf inf inf inf 12. 22. 24. 16. 20. 16. 16.]\n",
      " [inf inf inf inf inf inf inf inf inf inf inf inf 20. 22. 16. 20. 16. 16.]\n",
      " [inf inf inf inf inf inf inf inf inf inf inf inf inf 20. 22. 12. 20. 14.]\n",
      " [inf inf inf inf inf inf inf inf inf inf inf inf inf inf 16. 22. 16. 18.]\n",
      " [inf inf inf inf inf inf inf inf inf inf inf inf inf inf inf 20. 14. 24.]\n",
      " [inf inf inf inf inf inf inf inf inf inf inf inf inf inf inf inf 20. 18.]\n",
      " [inf inf inf inf inf inf inf inf inf inf inf inf inf inf inf inf inf 20.]\n",
      " [inf inf inf inf inf inf inf inf inf inf inf inf inf inf inf inf inf inf]\n",
      " [inf inf inf inf inf inf inf inf inf inf inf inf inf inf inf inf inf inf]\n",
      " [inf inf inf inf inf inf inf inf inf inf inf inf inf inf inf inf inf inf]\n",
      " [inf inf inf inf inf inf inf inf inf inf inf inf inf inf inf inf inf inf]\n",
      " [inf inf inf inf inf inf inf inf inf inf inf inf inf inf inf inf inf inf]]\n",
      "\n",
      "\n"
     ]
    }
   ],
   "source": [
    "recurStructure(0, 17)\n",
    "print(\"## ================================ W ================================ ##\")\n",
    "print(np.array(W))\n",
    "print(\"\\n\")\n",
    "print(\"## ================================ V ================================ ##\")\n",
    "print(np.array(V))\n",
    "print(\"\\n\")"
   ]
  },
  {
   "cell_type": "markdown",
   "metadata": {},
   "source": [
    "In order to obtain the secondary structure of the RNA, a backtracking approach is utilized, as below. The code is implemented for this particular sequence, after the following observation was made on the resulting W matrix: **It was noted that for every cell in the matrix, its leftmost and downward values, that is for smaller *i*-s and larger *j*-s, are all equal or larger than the value of the cell. Therefore the conclusion was made that the 4th condition tested when populating W, $min{W(i,k)+W(k−1,j) : j+1 < k < i$, was not utilized in this case, and, subsequently, there are no more than 2 folds for this particular sequence**. Thus, during the backtracking step, testing for this 4th condition was omitted, but it should be noted *that this only applies for this particular sequence*. Of course, in other cases the backtracking approach has to be modified to account for the 4th condition."
   ]
  },
  {
   "cell_type": "code",
   "execution_count": 4,
   "metadata": {},
   "outputs": [
    {
     "name": "stdout",
     "output_type": "stream",
     "text": [
      "['down', 'diagonal', 'diagonal', 'left', 'down', 'diagonal', 'diagonal', 'left', 'hairpin']\n"
     ]
    }
   ],
   "source": [
    "backtrack_arr = []\n",
    "\n",
    "i=17 # 0-index\n",
    "j=0 # 0-index\n",
    "\n",
    "while i >= j + 5:\n",
    "\n",
    "    a = W[j][i-1] # left\n",
    "    b = W[j+1][i] # down\n",
    "    c = V[j][i]   # diag\n",
    "\n",
    "    if W[j][i] == a:\n",
    "        backtrack_arr.append(\"left\") #updating backtracking array\n",
    "        j=j; i=i-1 # updating indices\n",
    "\n",
    "    elif W[j][i] == b:\n",
    "        backtrack_arr.append(\"down\")\n",
    "        j=j+1; i=i\n",
    "\n",
    "    elif W[j][i] == c:\n",
    "\n",
    "        if c == stem_mat[j][i] + hairpin_mat[j+1][i-1]:\n",
    "            backtrack_arr.append(\"hairpin\")\n",
    "            j=j+1; i=i-1\n",
    "\n",
    "        elif c == stem_mat[j][i] + recurStructure(j+1, i-1):\n",
    "            backtrack_arr.append(\"diagonal\")\n",
    "            j=j+1; i=i-1\n",
    "                \n",
    "print(backtrack_arr)"
   ]
  },
  {
   "cell_type": "markdown",
   "metadata": {},
   "source": [
    "By printing the backtracking array, one can obtain the \"path\" that the algorithm followed to populate the matrix W and reach the optimal energy at i=18 and j=1. The path is the following, sketched on matrix W:\n",
    "\n",
    "![Problem1_Path.jpg](./Problem1_Path.jpg)\n",
    "\n",
    "\"Translating\" the above notation leads to the optimal RNA secondary structure, visualized below. For the visualization step, the [**draw_rna**](https://github.com/DasLab/draw_rna) package was utilized. The necessary script to run the following code are included in the zip file submitted."
   ]
  },
  {
   "cell_type": "code",
   "execution_count": 6,
   "metadata": {},
   "outputs": [
    {
     "data": {
      "image/png": "[encoded data removed]",
      "text/plain": [
       "<Figure size 222.975x222.975 with 1 Axes>"
      ]
     },
     "metadata": {
      "needs_background": "light"
     },
     "output_type": "display_data"
    }
   ],
   "source": [
    "import matplotlib.pyplot as plt\n",
    "import importlib.util\n",
    "spec = importlib.util.spec_from_file_location(\"draw_rna\", \"./draw_rna/draw.py\")\n",
    "foo = importlib.util.module_from_spec(spec)\n",
    "spec.loader.exec_module(foo)\n",
    "import draw_rna.draw as d\n",
    "\n",
    "# function utilized below, provided by the draw_rna package\n",
    "def draw_struct(seq, secstruct, c=None, line=False, large_mode=False,\n",
    " cmap='viridis', rotation=0, vmin=None, vmax=None, alpha=None, ax=None):\n",
    "    '''\n",
    "    Draw sequence with secondary structure.\n",
    "    Inputs:\n",
    "    c (string or array-like).  If string, characters must correspond to colors.\n",
    "     If array-like obj, used as mapping for colormap (provided in cmap), or a string.\n",
    "    line (bool): draw secstruct as line.\n",
    "    large_mode: draw outer loop as straight line.\n",
    "    rotation: rotate molecule (in degrees).\n",
    "    '''\n",
    "\n",
    "    if c is not None:\n",
    "        assert len(c) == len(seq)\n",
    "        if isinstance(c[0], float):\n",
    "            d.draw_rna(seq, secstruct, c, line=line, ext_color_file=True, cmap_name = cmap, vmin=vmin, vmax=vmax,\n",
    "             rotation=rotation, large_mode = large_mode, alpha=alpha, ax=ax)\n",
    "        else:\n",
    "            d.draw_rna(seq, secstruct, c,  line=line, cmap_name=cmap, large_mode=large_mode, vmin=vmin, vmax=vmax,\n",
    "             rotation=rotation, alpha=alpha, ax=ax)\n",
    "\n",
    "    else:\n",
    "        d.draw_rna(seq, secstruct, seq2col(seq), line=line, cmap_name = cmap, vmin=vmin, vmax=vmax,\n",
    "         large_mode = large_mode, rotation=rotation, alpha=alpha, ax=ax)\n",
    "\n",
    "    if ax is None:\n",
    "        plt.show()\n",
    "        \n",
    "\n",
    "###\n",
    "\n",
    "# RNA Sequence\n",
    "seq = \"AAUACUCCGUUGCAGCAU\"\n",
    "# Optimal RNA 2D Structure - based on the backtracking array\n",
    "struct = \".((.((.......)).))\"\n",
    "\n",
    "# choosing colors\n",
    "col_pal = []\n",
    "for i in range(len(seq)):\n",
    "    if seq[i] == \"A\":\n",
    "        col_pal.append('darkmagenta')\n",
    "    elif seq[i] == \"U\":\n",
    "        col_pal.append('darkcyan')\n",
    "    elif seq[i] == \"G\":\n",
    "        col_pal.append('darkorange')\n",
    "    elif seq[i] == \"C\":\n",
    "        col_pal.append('steelblue')    \n",
    "    \n",
    "\n",
    "# plotting the structure\n",
    "draw_struct(seq, struct, c=col_pal)"
   ]
  },
  {
   "cell_type": "code",
   "execution_count": null,
   "metadata": {},
   "outputs": [],
   "source": []
  }
 ],
 "metadata": {
  "kernelspec": {
   "display_name": "Python 3",
   "language": "python",
   "name": "python3"
  },
  "language_info": {
   "codemirror_mode": {
    "name": "ipython",
    "version": 3
   },
   "file_extension": ".py",
   "mimetype": "text/x-python",
   "name": "python",
   "nbconvert_exporter": "python",
   "pygments_lexer": "ipython3",
   "version": "3.8.3"
  }
 },
 "nbformat": 4,
 "nbformat_minor": 4
}
